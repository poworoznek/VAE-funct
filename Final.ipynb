{
 "cells": [
  {
   "cell_type": "markdown",
   "metadata": {},
   "source": [
    "# Variational Auto Encoder from *Auto-Encoding Variational Bayes*"
   ]
  },
  {
   "cell_type": "code",
   "execution_count": 31,
   "metadata": {},
   "outputs": [],
   "source": [
    "import keras\n",
    "import numpy as np\n",
    "import h5py\n",
    "import matplotlib.pyplot as plt"
   ]
  },
  {
   "cell_type": "code",
   "execution_count": 47,
   "metadata": {},
   "outputs": [],
   "source": [
    "def vae(Xtrain, nndim = 200, latentdim = int(2), samplestd = 1.0,\n",
    "        epochs = int(10), batch_size = int(100)):\n",
    "    inputdim = Xtrain.shape[1]\n",
    "    \"\"\"define an auto-encoder following AEVB\"\"\"\n",
    "    \n",
    "    if inputdim <= nndim or inputdim <= latentdim:\n",
    "        print(\"overspecified model\")\n",
    "        return -1\n",
    "    \n",
    "    if batch_size > Xtrain.shape[0]:\n",
    "        print(\"too large batch size\")\n",
    "        return -1\n",
    "    \n",
    "    if epochs < 1:\n",
    "        print(\"must have at least one epoch\")\n",
    "        return -1\n",
    "    \n",
    "    X = keras.layers.Input(shape = (inputdim,))\n",
    "    Xinv = keras.layers.Dense(units = inputdim, activation = \"sigmoid\")\n",
    "    Q = keras.layers.Dense(object = X, units = nndim, activation = \"relu\")\n",
    "    Qinv = keras.layers.Dense(units = nndim, activation = \"relu\")\n",
    "    \n",
    "    Zm = keras.layers.Dense(object = Q, units = latentdim, activation = \"linear\")\n",
    "    Zv = keras.layers.Dense(object = Q, units = latentdim, activation = \"linear\")\n",
    "    \n",
    "    def lam(det):\n",
    "        \"\"\"lambda for keras\"\"\"\n",
    "        Zm = det[:, range(latentdim)]\n",
    "        Zv = det[:, range(latentdim+1,2*latentdim)]\n",
    "        noise = keras.backend.random_normal(shape = keras.shape(Zm)[0],\n",
    "                                           mean = 0,\n",
    "                                           stddev=samplestd)\n",
    "        return Zm + noise * keras.backend.sqrt(keras.backend.exp(Zv))\n",
    "    \n",
    "    Z = keras.layers.Lambda(keras.layers.Concatenate([Zm, Zv]), lam)\n",
    "    \n",
    "    Zgen = keras.layers.Input(shape = latentdim)\n",
    "    \n",
    "    Qout = Qinv(Z)\n",
    "    Xout = Xinv(Qout)\n",
    "    \n",
    "    Qgen = Qinv(Zgen)\n",
    "    Xgen = Xinv(Qgen)\n",
    "    \n",
    "    autoencoder = keras.Model(X, Xout)\n",
    "    encoder = keras.Model(X, Zm)\n",
    "    decoder = keras.Model(Zgen, Xgen)\n",
    "    \n",
    "    l= 1.0\n",
    "    \n",
    "    def AEVBloss(X, Xout):\n",
    "        \"\"\"Loss from Auto-Encoding Variational Bayes page 5\"\"\"\n",
    "        decterm = (inputdim/l) * keras.losses.binary_crossentropy(X, Xout)\n",
    "        KLterm = -0.5 * keras.backend.mean(1 + Zv - \n",
    "                                           keras.backend.square(Zm) - \n",
    "                                          keras.backend.exp(Zv),\n",
    "                                          axis = -1)\n",
    "        return KLterm + decterm\n",
    "    \n",
    "    \n",
    "    autoencoder.compile(optimizer = \"rmsprop\", loss = AEVBloss)\n",
    "    \n",
    "    autoencoder.fit(x = Xtrain, y = Xtrain, epochs = epochs, batch_size = batch_size)\n",
    "    \n",
    "    return([autoencoder, encoder, decoder])"
   ]
  },
  {
   "cell_type": "code",
   "execution_count": 33,
   "metadata": {},
   "outputs": [
    {
     "name": "stdout",
     "output_type": "stream",
     "text": [
      "Downloading data from https://s3.amazonaws.com/img-datasets/mnist.npz\n",
      "11493376/11490434 [==============================] - 6s 0us/step\n"
     ]
    },
    {
     "data": {
      "text/plain": [
       "((array([[[0, 0, 0, ..., 0, 0, 0],\n",
       "          [0, 0, 0, ..., 0, 0, 0],\n",
       "          [0, 0, 0, ..., 0, 0, 0],\n",
       "          ...,\n",
       "          [0, 0, 0, ..., 0, 0, 0],\n",
       "          [0, 0, 0, ..., 0, 0, 0],\n",
       "          [0, 0, 0, ..., 0, 0, 0]],\n",
       "  \n",
       "         [[0, 0, 0, ..., 0, 0, 0],\n",
       "          [0, 0, 0, ..., 0, 0, 0],\n",
       "          [0, 0, 0, ..., 0, 0, 0],\n",
       "          ...,\n",
       "          [0, 0, 0, ..., 0, 0, 0],\n",
       "          [0, 0, 0, ..., 0, 0, 0],\n",
       "          [0, 0, 0, ..., 0, 0, 0]],\n",
       "  \n",
       "         [[0, 0, 0, ..., 0, 0, 0],\n",
       "          [0, 0, 0, ..., 0, 0, 0],\n",
       "          [0, 0, 0, ..., 0, 0, 0],\n",
       "          ...,\n",
       "          [0, 0, 0, ..., 0, 0, 0],\n",
       "          [0, 0, 0, ..., 0, 0, 0],\n",
       "          [0, 0, 0, ..., 0, 0, 0]],\n",
       "  \n",
       "         ...,\n",
       "  \n",
       "         [[0, 0, 0, ..., 0, 0, 0],\n",
       "          [0, 0, 0, ..., 0, 0, 0],\n",
       "          [0, 0, 0, ..., 0, 0, 0],\n",
       "          ...,\n",
       "          [0, 0, 0, ..., 0, 0, 0],\n",
       "          [0, 0, 0, ..., 0, 0, 0],\n",
       "          [0, 0, 0, ..., 0, 0, 0]],\n",
       "  \n",
       "         [[0, 0, 0, ..., 0, 0, 0],\n",
       "          [0, 0, 0, ..., 0, 0, 0],\n",
       "          [0, 0, 0, ..., 0, 0, 0],\n",
       "          ...,\n",
       "          [0, 0, 0, ..., 0, 0, 0],\n",
       "          [0, 0, 0, ..., 0, 0, 0],\n",
       "          [0, 0, 0, ..., 0, 0, 0]],\n",
       "  \n",
       "         [[0, 0, 0, ..., 0, 0, 0],\n",
       "          [0, 0, 0, ..., 0, 0, 0],\n",
       "          [0, 0, 0, ..., 0, 0, 0],\n",
       "          ...,\n",
       "          [0, 0, 0, ..., 0, 0, 0],\n",
       "          [0, 0, 0, ..., 0, 0, 0],\n",
       "          [0, 0, 0, ..., 0, 0, 0]]], dtype=uint8),\n",
       "  array([5, 0, 4, ..., 5, 6, 8], dtype=uint8)),\n",
       " (array([[[0, 0, 0, ..., 0, 0, 0],\n",
       "          [0, 0, 0, ..., 0, 0, 0],\n",
       "          [0, 0, 0, ..., 0, 0, 0],\n",
       "          ...,\n",
       "          [0, 0, 0, ..., 0, 0, 0],\n",
       "          [0, 0, 0, ..., 0, 0, 0],\n",
       "          [0, 0, 0, ..., 0, 0, 0]],\n",
       "  \n",
       "         [[0, 0, 0, ..., 0, 0, 0],\n",
       "          [0, 0, 0, ..., 0, 0, 0],\n",
       "          [0, 0, 0, ..., 0, 0, 0],\n",
       "          ...,\n",
       "          [0, 0, 0, ..., 0, 0, 0],\n",
       "          [0, 0, 0, ..., 0, 0, 0],\n",
       "          [0, 0, 0, ..., 0, 0, 0]],\n",
       "  \n",
       "         [[0, 0, 0, ..., 0, 0, 0],\n",
       "          [0, 0, 0, ..., 0, 0, 0],\n",
       "          [0, 0, 0, ..., 0, 0, 0],\n",
       "          ...,\n",
       "          [0, 0, 0, ..., 0, 0, 0],\n",
       "          [0, 0, 0, ..., 0, 0, 0],\n",
       "          [0, 0, 0, ..., 0, 0, 0]],\n",
       "  \n",
       "         ...,\n",
       "  \n",
       "         [[0, 0, 0, ..., 0, 0, 0],\n",
       "          [0, 0, 0, ..., 0, 0, 0],\n",
       "          [0, 0, 0, ..., 0, 0, 0],\n",
       "          ...,\n",
       "          [0, 0, 0, ..., 0, 0, 0],\n",
       "          [0, 0, 0, ..., 0, 0, 0],\n",
       "          [0, 0, 0, ..., 0, 0, 0]],\n",
       "  \n",
       "         [[0, 0, 0, ..., 0, 0, 0],\n",
       "          [0, 0, 0, ..., 0, 0, 0],\n",
       "          [0, 0, 0, ..., 0, 0, 0],\n",
       "          ...,\n",
       "          [0, 0, 0, ..., 0, 0, 0],\n",
       "          [0, 0, 0, ..., 0, 0, 0],\n",
       "          [0, 0, 0, ..., 0, 0, 0]],\n",
       "  \n",
       "         [[0, 0, 0, ..., 0, 0, 0],\n",
       "          [0, 0, 0, ..., 0, 0, 0],\n",
       "          [0, 0, 0, ..., 0, 0, 0],\n",
       "          ...,\n",
       "          [0, 0, 0, ..., 0, 0, 0],\n",
       "          [0, 0, 0, ..., 0, 0, 0],\n",
       "          [0, 0, 0, ..., 0, 0, 0]]], dtype=uint8),\n",
       "  array([7, 2, 1, ..., 4, 5, 6], dtype=uint8)))"
      ]
     },
     "execution_count": 33,
     "metadata": {},
     "output_type": "execute_result"
    }
   ],
   "source": [
    "from keras.datasets import mnist\n",
    "mnist.load_data()"
   ]
  },
  {
   "cell_type": "code",
   "execution_count": 5,
   "metadata": {},
   "outputs": [],
   "source": [
    "(Xtrain, ytrain), (Xtest, ytest) = mnist.load_data()"
   ]
  },
  {
   "cell_type": "code",
   "execution_count": 36,
   "metadata": {},
   "outputs": [
    {
     "data": {
      "text/plain": [
       "(60000, 28, 28)"
      ]
     },
     "execution_count": 36,
     "metadata": {},
     "output_type": "execute_result"
    }
   ],
   "source": [
    "Xtrain.shape"
   ]
  },
  {
   "cell_type": "code",
   "execution_count": 6,
   "metadata": {},
   "outputs": [],
   "source": [
    "Xtrain = Xtrain.reshape(60000, 784)"
   ]
  },
  {
   "cell_type": "code",
   "execution_count": 7,
   "metadata": {},
   "outputs": [],
   "source": [
    "Xtrain = Xtrain / 255"
   ]
  },
  {
   "cell_type": "code",
   "execution_count": 21,
   "metadata": {},
   "outputs": [
    {
     "name": "stdout",
     "output_type": "stream",
     "text": [
      "Epoch 1/10\n",
      "60000/60000 [==============================] - 6s 107us/step - loss: 200.7069\n",
      "Epoch 2/10\n",
      "60000/60000 [==============================] - 6s 96us/step - loss: 166.0605\n",
      "Epoch 3/10\n",
      "60000/60000 [==============================] - 7s 109us/step - loss: 163.3117\n",
      "Epoch 4/10\n",
      "60000/60000 [==============================] - 6s 103us/step - loss: 161.5662\n",
      "Epoch 5/10\n",
      "60000/60000 [==============================] - 6s 105us/step - loss: 160.1262\n",
      "Epoch 6/10\n",
      "60000/60000 [==============================] - 6s 107us/step - loss: 158.8283\n",
      "Epoch 7/10\n",
      "60000/60000 [==============================] - 6s 107us/step - loss: 157.5646\n",
      "Epoch 8/10\n",
      "60000/60000 [==============================] - 7s 114us/step - loss: 156.3692\n",
      "Epoch 9/10\n",
      "60000/60000 [==============================] - 6s 107us/step - loss: 155.2694\n",
      "Epoch 10/10\n",
      "60000/60000 [==============================] - 6s 108us/step - loss: 154.3058\n"
     ]
    }
   ],
   "source": [
    "output = vae2(Xtrain, nndim = 200, latentdim = int(2), samplestd = 1.0,\n",
    "        epochs = int(10), batch_size = int(100))"
   ]
  },
  {
   "cell_type": "code",
   "execution_count": 22,
   "metadata": {},
   "outputs": [],
   "source": [
    "autoencoder, encoder, decoder = output"
   ]
  },
  {
   "cell_type": "code",
   "execution_count": 28,
   "metadata": {},
   "outputs": [],
   "source": [
    "Xtest = Xtest.reshape((len(Xtest), np.prod(Xtest.shape[1:])))"
   ]
  },
  {
   "cell_type": "code",
   "execution_count": 29,
   "metadata": {},
   "outputs": [],
   "source": [
    "x_test_encoded = encoder.predict(Xtest/255, batch_size = int(100))"
   ]
  },
  {
   "cell_type": "code",
   "execution_count": 33,
   "metadata": {},
   "outputs": [
    {
     "data": {
      "image/png": "[encoded data removed]",
      "text/plain": [
       "<Figure size 432x288 with 2 Axes>"
      ]
     },
     "metadata": {
      "needs_background": "light"
     },
     "output_type": "display_data"
    }
   ],
   "source": [
    "plt.scatter(x_test_encoded[:,0], x_test_encoded[:,1], c=ytest)\n",
    "plt.show()"
   ]
  },
  {
   "cell_type": "code",
   "execution_count": 20,
   "metadata": {},
   "outputs": [],
   "source": [
    "#### Michael's poor attempt\n",
    "def vae2(Xtrain, nndim = 200, latentdim = int(2), samplestd = 1.0,\n",
    "        epochs = int(10), batch_size = int(100)):\n",
    "\n",
    "    inputdim = Xtrain.shape[1]\n",
    "    \"\"\"define an auto-encoder following AEVB\"\"\"\n",
    "\n",
    "    X = keras.layers.Input(shape = (inputdim,))\n",
    "    Q = keras.layers.Dense(units = nndim, activation = \"relu\")(X)\n",
    "    Zm = keras.layers.Dense(units = latentdim)(Q)\n",
    "    Zv = keras.layers.Dense(units = latentdim)(Q)\n",
    "\n",
    "    def lam(det):\n",
    "        \"\"\"lambda for keras\"\"\"\n",
    "        Zm, Zv = det\n",
    "        noise = keras.backend.random_normal(shape = (batch_size, latentdim),\n",
    "                                       mean = 0.0,\n",
    "                                       stddev=samplestd)\n",
    "        return Zm + noise * keras.backend.exp(Zv)\n",
    "\n",
    "    Z = keras.layers.Lambda(lam, output_shape = (latentdim,))([Zm, Zv])\n",
    "\n",
    "    Qinv = keras.layers.Dense(units = nndim, activation = \"relu\")\n",
    "    Xinv = keras.layers.Dense(units = inputdim, activation = \"sigmoid\")\n",
    "    Qout = Qinv(Z)\n",
    "    Xout = Xinv(Qout)\n",
    "\n",
    "\n",
    "    ### Generating from latent space\n",
    "    Zgen = keras.layers.Input(shape = (latentdim,))\n",
    "    Qgen = Qinv(Zgen)\n",
    "    Xgen = Xinv(Qgen)\n",
    "\n",
    "    ### Defining the 3 models\n",
    "    autoencoder = keras.Model(X, Xout)\n",
    "    encoder = keras.Model(X, Zm)\n",
    "    decoder = keras.Model(Zgen, Xgen)\n",
    "\n",
    "\n",
    "    l= 1.0\n",
    "\n",
    "    ### Creation of loss function\n",
    "    def AEVBloss(X, Xout):\n",
    "        \"\"\"Loss from Auto-Encoding Variational Bayes page 5\"\"\"\n",
    "        decterm = (inputdim/l) * keras.losses.binary_crossentropy(X, Xout) \n",
    "        KLterm = -0.5 * keras.backend.mean(1 + Zv - \n",
    "                                       keras.backend.square(Zm) - \n",
    "                                      keras.backend.exp(Zv),\n",
    "                                      axis = -1)\n",
    "        return KLterm + decterm\n",
    "\n",
    "\n",
    "    autoencoder.compile(optimizer = \"rmsprop\", loss = AEVBloss)\n",
    "\n",
    "    autoencoder.fit(x = Xtrain, y = Xtrain, epochs = epochs, batch_size = batch_size)\n",
    "\n",
    "    return([autoencoder, encoder, decoder])\n"
   ]
  }
 ],
 "metadata": {
  "kernelspec": {
   "display_name": "Python 3",
   "language": "python",
   "name": "python3"
  },
  "language_info": {
   "codemirror_mode": {
    "name": "ipython",
    "version": 3
   },
   "file_extension": ".py",
   "mimetype": "text/x-python",
   "name": "python",
   "nbconvert_exporter": "python",
   "pygments_lexer": "ipython3",
   "version": "3.6.8"
  }
 },
 "nbformat": 4,
 "nbformat_minor": 2
}
